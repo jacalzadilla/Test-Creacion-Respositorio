{
 "cells": [
  {
   "cell_type": "markdown",
   "id": "66f81d56",
   "metadata": {},
   "source": [
    "## Tarea de funciones"
   ]
  },
  {
   "cell_type": "markdown",
   "id": "b4c0c0a6",
   "metadata": {},
   "source": [
    "### Función valor absoluto"
   ]
  },
  {
   "cell_type": "code",
   "execution_count": 1,
   "id": "8ea70a6f",
   "metadata": {},
   "outputs": [],
   "source": [
    "def abs_func(x):\n",
    "    if x < 0:\n",
    "        return -x\n",
    "    return x"
   ]
  },
  {
   "cell_type": "code",
   "execution_count": 3,
   "id": "27ede6d0",
   "metadata": {},
   "outputs": [
    {
     "name": "stdout",
     "output_type": "stream",
     "text": [
      "Valor absoluto de -5: 5\n",
      "Valor absoluto de 5: 10\n"
     ]
    }
   ],
   "source": [
    "print(f'Valor absoluto de -5: {abs_func(-5)}')\n",
    "print(f'Valor absoluto de 5: {abs_func(10)}')"
   ]
  },
  {
   "cell_type": "markdown",
   "id": "f4eaa697",
   "metadata": {},
   "source": [
    "### Comprobación"
   ]
  },
  {
   "cell_type": "code",
   "execution_count": 4,
   "id": "e2008154",
   "metadata": {},
   "outputs": [
    {
     "name": "stdout",
     "output_type": "stream",
     "text": [
      "Valor absoluto de -5: 5\n",
      "Valor absoluto de 5: 10\n"
     ]
    }
   ],
   "source": [
    "print(f'Valor absoluto de -5: {abs(-5)}')\n",
    "print(f'Valor absoluto de 5: {abs(10)}')"
   ]
  }
 ],
 "metadata": {
  "kernelspec": {
   "display_name": "base",
   "language": "python",
   "name": "python3"
  },
  "language_info": {
   "codemirror_mode": {
    "name": "ipython",
    "version": 3
   },
   "file_extension": ".py",
   "mimetype": "text/x-python",
   "name": "python",
   "nbconvert_exporter": "python",
   "pygments_lexer": "ipython3",
   "version": "3.11.5"
  }
 },
 "nbformat": 4,
 "nbformat_minor": 5
}
